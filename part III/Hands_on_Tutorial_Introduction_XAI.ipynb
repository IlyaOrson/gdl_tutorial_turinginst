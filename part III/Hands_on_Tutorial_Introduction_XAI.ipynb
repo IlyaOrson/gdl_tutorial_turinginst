{
 "cells": [
  {
   "cell_type": "markdown",
   "metadata": {
    "id": "VN5aDSRS0PPk"
   },
   "source": [
    "# Hands-on Tutorial on XAI (Introduction)\n",
    "### Machine Learning and Dynamical Systems Seminar hosted by the Alan Turing Institute\n",
    "\n",
    "[Link](https://github.com/steveazzolin/gdl_tutorial_turinginst) to online material"
   ]
  },
  {
   "cell_type": "markdown",
   "metadata": {
    "id": "ro6CRm-B27R7"
   },
   "source": [
    "![](./SCM_XAITutorial.png)\n",
    "\n",
    "Given the Structural Causal Model defined above, we will sample some data from the underlying distribution and train two ML models with the goal of inspecting their behaviour under environment shifts. Then, by inspecting the learned weights, we try to judge whether the model learned the expected decision patterns"
   ]
  },
  {
   "cell_type": "code",
   "execution_count": null,
   "metadata": {
    "id": "YhuCZ17MMeuU"
   },
   "outputs": [],
   "source": [
    "import numpy as np\n",
    "from sklearn.linear_model import LogisticRegression\n",
    "from sklearn.neural_network import MLPClassifier"
   ]
  },
  {
   "cell_type": "code",
   "execution_count": null,
   "metadata": {
    "id": "eGEJa3y_RmOg"
   },
   "outputs": [],
   "source": [
    "def create_data_env(n_samples, mu_1, dev_2, mu_3):\n",
    "  x1 = np.random.randn(n_samples, 1) + mu_1\n",
    "  y = x1 >= mu_1\n",
    "  x2 = y + np.random.randn(n_samples, 1) * dev_2\n",
    "  x3 = np.random.randn(n_samples, 1) + mu_3\n",
    "\n",
    "  X = np.concatenate([x1,x2,x3], axis=-1)\n",
    "  y = np.squeeze(y)\n",
    "  return X, y"
   ]
  },
  {
   "cell_type": "markdown",
   "metadata": {
    "id": "FRiUxECz4elk"
   },
   "source": [
    "Create data from 3 different environments"
   ]
  },
  {
   "cell_type": "code",
   "execution_count": null,
   "metadata": {
    "colab": {
     "base_uri": "https://localhost:8080/"
    },
    "id": "SFDcB5J2Pk0M",
    "outputId": "23860320-9f8b-4e7d-bd45-485577ccaea0"
   },
   "outputs": [
    {
     "name": "stdout",
     "output_type": "stream",
     "text": [
      "(1000, 3) (1000,)\n"
     ]
    }
   ],
   "source": [
    "n_samples = 1000\n",
    "mu_1 = 5\n",
    "mu_3 = 2.5\n",
    "dev_2_env_1 = 0.1\n",
    "dev_2_env_2 = 1\n",
    "dev_2_env_3 = 10\n",
    "\n",
    "X, y = {}, {}\n",
    "\n",
    "X_env, y_env = create_data_env(n_samples, mu_1, dev_2_env_1, mu_3)\n",
    "X[\"env_1\"] = X_env\n",
    "y[\"env_1\"] = y_env\n",
    "\n",
    "X_env, y_env = create_data_env(n_samples, mu_1, dev_2_env_2, mu_3)\n",
    "X[\"env_2\"] = X_env\n",
    "y[\"env_2\"] = y_env\n",
    "\n",
    "X_env, y_env = create_data_env(n_samples, mu_1, dev_2_env_3, mu_3)\n",
    "X[\"env_3\"] = X_env\n",
    "y[\"env_3\"] = y_env\n",
    "\n",
    "\n",
    "print(X[\"env_1\"].shape, y[\"env_1\"].shape)"
   ]
  },
  {
   "cell_type": "markdown",
   "metadata": {
    "id": "5CgmVBWR4h70"
   },
   "source": [
    "Fit a Simple **LogisticRegression** on the first environment"
   ]
  },
  {
   "cell_type": "code",
   "execution_count": null,
   "metadata": {
    "colab": {
     "base_uri": "https://localhost:8080/"
    },
    "id": "tdWKwnWUQMEp",
    "outputId": "17f739db-a7e7-4f9b-a429-830d9f1c1cc7"
   },
   "outputs": [
    {
     "name": "stdout",
     "output_type": "stream",
     "text": [
      "Accuracy of the model on env 1 =  1.0\n"
     ]
    }
   ],
   "source": [
    "clf = LogisticRegression(random_state=42).fit(X[\"env_1\"], y[\"env_1\"])\n",
    "preds = clf.predict(X[\"env_1\"])\n",
    "acc = clf.score(X[\"env_1\"], y[\"env_1\"])\n",
    "print(\"Accuracy of the model on env 1 = \", acc)"
   ]
  },
  {
   "cell_type": "markdown",
   "metadata": {
    "id": "yqgVdKQn4qOM"
   },
   "source": [
    "Does it generalize to the other environments?"
   ]
  },
  {
   "cell_type": "code",
   "execution_count": null,
   "metadata": {
    "colab": {
     "base_uri": "https://localhost:8080/"
    },
    "id": "ELZwsqcnSwHQ",
    "outputId": "f9cfbee0-40d3-47a6-bc2f-2887e7b8a245"
   },
   "outputs": [
    {
     "name": "stdout",
     "output_type": "stream",
     "text": [
      "Accuracy of the model =  0.839\n",
      "Accuracy of the model =  0.535\n"
     ]
    }
   ],
   "source": [
    "acc = clf.score(X[\"env_2\"], y[\"env_2\"])\n",
    "print(\"Accuracy of the model on env 2 = \", acc)\n",
    "\n",
    "acc = clf.score(X[\"env_3\"], y[\"env_3\"])\n",
    "print(\"Accuracy of the model on env 3 = \", acc)"
   ]
  },
  {
   "cell_type": "markdown",
   "metadata": {
    "id": "cMJdyjMn4t8d"
   },
   "source": [
    "Why? Can we inspect what it has learned?\n",
    "The **LogisticRegression** is defined as:\n",
    "\n",
    "$\\hat{y} = \\sigma(w_1x_1 + w_2x_2 + w_3x_3$)\n",
    "\n",
    "So we can easily inspect the individual weights"
   ]
  },
  {
   "cell_type": "code",
   "execution_count": null,
   "metadata": {
    "colab": {
     "base_uri": "https://localhost:8080/"
    },
    "id": "Vv9s5SJXR7KR",
    "outputId": "a04b25c1-7a54-4d5c-ec88-ff17fd6e6226"
   },
   "outputs": [
    {
     "data": {
      "text/plain": [
       "array([[ 3.52944624,  5.63905447, -0.01044425]])"
      ]
     },
     "execution_count": 7,
     "metadata": {},
     "output_type": "execute_result"
    }
   ],
   "source": [
    "clf.coef_"
   ]
  },
  {
   "cell_type": "markdown",
   "metadata": {
    "id": "BhmNZEKLIiLN"
   },
   "source": [
    "So, the model gave a large importance to $x_2$ even tough is not causally asssociated to $y$. This opens the model to several vulnerabilities associated to distribution/environment shifts."
   ]
  },
  {
   "cell_type": "markdown",
   "metadata": {
    "id": "cHaEmxbEVraw"
   },
   "source": [
    "Let's try with a Deep Learning model, specifically a **MLP** with 2 layers and 100 hidden units"
   ]
  },
  {
   "cell_type": "code",
   "execution_count": null,
   "metadata": {
    "colab": {
     "base_uri": "https://localhost:8080/"
    },
    "id": "C0pceAbqVt9X",
    "outputId": "2428060d-5044-4a97-cee3-8b2fa43d0c86"
   },
   "outputs": [
    {
     "name": "stdout",
     "output_type": "stream",
     "text": [
      "Accuracy of the model on env_1=  1.0\n",
      "Accuracy of the model on env_2=  0.715\n",
      "Accuracy of the model on env_3=  0.518\n"
     ]
    }
   ],
   "source": [
    "clf = MLPClassifier(random_state=42, max_iter=700).fit(X[\"env_1\"], y[\"env_1\"])\n",
    "for e in [\"env_1\", \"env_2\", \"env_3\"]:\n",
    "  acc = clf.score(X[e], y[e])\n",
    "  print(f\"Accuracy of the model on {e}= \", acc)"
   ]
  },
  {
   "cell_type": "markdown",
   "metadata": {
    "id": "jWWCNCsF7ywl"
   },
   "source": [
    "Let's inspect again the weights"
   ]
  },
  {
   "cell_type": "code",
   "execution_count": null,
   "metadata": {
    "colab": {
     "base_uri": "https://localhost:8080/"
    },
    "id": "pSzQs7GiWUlP",
    "outputId": "69932177-5f01-4c8a-bbc3-bd0062d9c914"
   },
   "outputs": [
    {
     "name": "stdout",
     "output_type": "stream",
     "text": [
      "Layers of the network:  2\n",
      "Num of params of first layer:  (3, 100)\n",
      "[[-2.65515764e-09  2.57549541e-01  1.37231616e-01  6.30027767e-02\n",
      "  -1.31288889e-02 -1.08151796e-01  1.75626295e-02  1.64818077e-01\n",
      "  -1.94127872e-02  1.52594666e-01 -1.10490703e-03  2.39885965e-01\n",
      "   1.80653317e-01  7.68429728e-02 -1.78669153e-01  1.34819530e-02\n",
      "  -4.14915116e-07  4.66655897e-02  8.76425924e-02  4.70882182e-02\n",
      "   7.82715752e-02 -4.27435978e-02  7.50783758e-02 -5.66060247e-09\n",
      "   4.10681634e-02  1.96456209e-01 -1.15670590e-01  8.78970932e-02\n",
      "   3.50042473e-02 -7.52995646e-04  3.44799913e-02 -5.81057339e-02\n",
      "  -5.58299294e-04  2.00182986e-01  2.16427816e-01  1.68570033e-01\n",
      "   3.28088392e-02 -4.89513496e-02  1.05677975e-01 -4.70809681e-02\n",
      "  -1.87730461e-01  2.02433909e-02 -3.07742131e-02  1.68925265e-01\n",
      "  -3.52543746e-06  8.70598701e-02 -3.66671499e-02  8.53423391e-02\n",
      "   2.55239516e-02 -2.15168526e-02  2.49983136e-01  1.08575903e-01\n",
      "   1.79477713e-01  2.18559381e-01  2.39604066e-03  1.42257260e-01\n",
      "  -6.43890268e-02 -4.43134226e-02 -1.52407612e-02 -8.57419464e-02\n",
      "   1.95386360e-02  7.06356481e-04  2.16659770e-01 -3.84617200e-03\n",
      "  -1.63304631e-01  2.21910672e-02 -3.42226925e-02  1.55147867e-01\n",
      "  -4.75233542e-04  2.59413368e-01  1.19162670e-01 -1.57722513e-01\n",
      "  -3.26634644e-02  1.63060028e-01  1.84402819e-01  1.22881405e-01\n",
      "   1.15949681e-01 -4.79400425e-04  9.59125836e-03 -1.85604965e-01\n",
      "   1.93752289e-01 -1.87387188e-03 -5.42256882e-02 -8.99406232e-03\n",
      "  -1.00182515e-01 -7.33912119e-02  1.02415999e-01  4.85998016e-02\n",
      "   2.03901045e-01 -5.24964841e-02  5.06692201e-02  1.98974357e-01\n",
      "   1.17234494e-01  2.14031694e-02  1.73387471e-01 -1.00226217e-02\n",
      "   4.84848686e-02 -5.92626382e-02 -4.07190618e-02 -6.00573211e-02]\n",
      " [-9.44907735e-04  3.41409148e-01 -6.04569129e-01  2.64454317e-01\n",
      "  -5.94794863e-01 -2.27286997e-02 -4.76311925e-01 -9.23646344e-02\n",
      "  -7.20743042e-02 -5.57471431e-01 -8.77979380e-07  7.46826710e-02\n",
      "   4.90010377e-01  8.47174292e-01  5.24986942e-02 -7.30585804e-01\n",
      "   3.06071063e-05 -4.82540389e-01  5.36346054e-01  8.81333333e-01\n",
      "   4.61872171e-01  2.91162106e-04 -5.78849052e-01 -2.46085817e-04\n",
      "  -4.82260738e-01  4.26614949e-01 -1.96417074e-01  4.67069038e-01\n",
      "  -5.53153420e-01 -5.51347890e-17 -3.05661758e-01 -8.10547495e-04\n",
      "  -2.01624996e-04 -3.30062798e-01  4.05900123e-02  2.17965815e-01\n",
      "  -4.41255522e-01  4.94765337e-06  2.17746796e-01  2.05911700e-01\n",
      "   2.02018238e-02  1.11148266e-01 -4.71298593e-01 -4.25752341e-01\n",
      "  -1.11441977e-06 -1.81876879e-02  6.01599881e-03  3.31030073e-01\n",
      "  -5.37952758e-01 -5.00007627e-01  4.94685130e-01 -4.87050551e-01\n",
      "  -4.98555815e-01  2.76278627e-01  1.88734344e-01 -5.69489795e-01\n",
      "  -3.50535544e-01 -3.73524021e-01 -5.80711839e-01  9.81823772e-02\n",
      "  -4.13055710e-01  5.35853073e-01  3.72793795e-01 -2.92632241e-07\n",
      "  -1.61008002e-01  9.46839345e-02 -4.98525031e-01  5.77182475e-02\n",
      "  -8.21636553e-04  3.17794537e-01 -1.31115191e-01 -2.27092119e-01\n",
      "  -4.71751242e-01  9.02917238e-02  5.19934065e-01  7.40739952e-02\n",
      "  -1.45250330e-01 -7.54299708e-10  5.13850957e-01 -3.37842073e-02\n",
      "   2.35111106e-01 -1.50141266e-01  6.83507741e-02 -7.35836509e-01\n",
      "  -7.19098690e-02  2.15243407e-01 -3.89880305e-02 -2.40182365e-01\n",
      "   2.73968588e-01 -1.01756725e-01 -6.94302548e-01  5.38871768e-01\n",
      "   1.33944005e-02 -2.45601479e-01 -5.96559471e-01 -4.12781778e-01\n",
      "   5.46898405e-01  1.64397837e-01  3.94916739e-04  9.44250019e-04]\n",
      " [ 1.15958391e-08 -1.59703573e-01 -1.23177618e-01  1.88370838e-01\n",
      "  -1.33084158e-03 -1.41181010e-01  1.13712909e-02  9.13910201e-02\n",
      "  -2.75150358e-01 -8.52248212e-02 -2.36424988e-14  8.44232700e-02\n",
      "   7.54329733e-02  7.42822142e-02  7.48513928e-02  1.43737967e-02\n",
      "  -1.20443486e-07  1.15440174e-01  1.68996930e-01  2.16156433e-01\n",
      "   8.57160404e-02 -1.11151872e-02 -7.22556252e-02 -5.01490776e-09\n",
      "  -4.07750331e-02 -4.64774946e-02  2.92979606e-01  2.24928022e-02\n",
      "   1.76784504e-01  4.52076763e-09  1.43501745e-01 -1.01513750e-02\n",
      "   3.07327611e-12  1.44467532e-03 -1.31308483e-01  1.12599156e-01\n",
      "  -5.80985509e-02 -2.01711963e-02  7.04099790e-02 -1.35320602e-01\n",
      "   2.76684930e-01  2.08323478e-01  2.94344190e-01 -7.75770764e-02\n",
      "  -1.18727377e-03  1.92622258e-01 -1.66860570e-02  2.43842871e-01\n",
      "   2.12469256e-01  2.32694607e-01 -9.22707410e-02 -1.10145511e-01\n",
      "   1.53686175e-01 -7.13059710e-02 -1.78345132e-01 -2.28526398e-02\n",
      "   3.27841669e-01  1.22562944e-01  1.88282212e-03 -1.79827690e-01\n",
      "   7.87823011e-02  2.72316859e-01 -9.06054612e-02 -4.84692797e-04\n",
      "   1.16960515e-01  1.53108769e-01  1.55345802e-01  8.40820633e-02\n",
      "  -1.02230971e-08 -8.93889769e-02  1.61667534e-01  1.36387811e-01\n",
      "   2.90991471e-01  1.88253513e-01  8.33797300e-02 -8.74766320e-03\n",
      "   1.52118587e-01  2.17600038e-08  1.24312260e-01  1.27454788e-01\n",
      "   1.94138883e-01 -1.15650040e-01 -1.63237151e-02  1.22141784e-02\n",
      "   2.75144099e-02 -2.66255741e-01 -1.13881102e-04  2.33188984e-02\n",
      "  -1.05662244e-01  3.94941598e-03 -7.14768888e-02 -8.14782126e-02\n",
      "   1.74907882e-01 -5.28027798e-02 -1.46305349e-01  1.42764850e-03\n",
      "   1.71515782e-01 -1.10820644e-01 -5.86000877e-03 -3.01623569e-02]]\n"
     ]
    }
   ],
   "source": [
    "Ws = clf.coefs_\n",
    "print(\"Layers of the network: \", len(Ws))\n",
    "print(\"Num of params of first layer: \", Ws[0].shape)\n",
    "print(Ws[0])"
   ]
  },
  {
   "cell_type": "markdown",
   "metadata": {
    "id": "1W5Tbeg-IyJG"
   },
   "source": [
    "With this deep learning model, even if failry shallow, we can't assess the goodness of the model by inspewcting the parameters, since theiy are simply too many."
   ]
  }
 ],
 "metadata": {
  "colab": {
   "provenance": []
  },
  "kernelspec": {
   "display_name": "Python 3 (ipykernel)",
   "language": "python",
   "name": "python3"
  },
  "language_info": {
   "codemirror_mode": {
    "name": "ipython",
    "version": 3
   },
   "file_extension": ".py",
   "mimetype": "text/x-python",
   "name": "python",
   "nbconvert_exporter": "python",
   "pygments_lexer": "ipython3",
   "version": "3.7.11"
  }
 },
 "nbformat": 4,
 "nbformat_minor": 1
}
